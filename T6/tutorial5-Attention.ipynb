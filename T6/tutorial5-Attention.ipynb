{
 "cells": [
  {
   "cell_type": "markdown",
   "metadata": {
    "slideshow": {
     "slide_type": "slide"
    }
   },
   "source": [
    "$$\n",
    "\\newcommand{\\mat}[1]{\\boldsymbol {#1}}\n",
    "\\newcommand{\\mattr}[1]{\\boldsymbol {#1}^\\top}\n",
    "\\newcommand{\\matinv}[1]{\\boldsymbol {#1}^{-1}}\n",
    "\\newcommand{\\vec}[1]{\\boldsymbol {#1}}\n",
    "\\newcommand{\\vectr}[1]{\\boldsymbol {#1}^\\top}\n",
    "\\newcommand{\\rvar}[1]{\\mathrm {#1}}\n",
    "\\newcommand{\\rvec}[1]{\\boldsymbol{\\mathrm{#1}}}\n",
    "\\newcommand{\\diag}{\\mathop{\\mathrm {diag}}}\n",
    "\\newcommand{\\set}[1]{\\mathbb {#1}}\n",
    "\\newcommand{\\norm}[1]{\\left\\lVert#1\\right\\rVert}\n",
    "\\newcommand{\\pderiv}[2]{\\frac{\\partial #1}{\\partial #2}}\n",
    "\\newcommand{\\bb}[1]{\\boldsymbol{#1}}\n",
    "$$\n",
    "\n",
    "\n",
    "<img src=\"../3600.jpg\" width=500 />\n",
    "\n",
    "# Tutorial 5: Attention"
   ]
  },
  {
   "cell_type": "markdown",
   "metadata": {
    "slideshow": {
     "slide_type": "subslide"
    }
   },
   "source": [
    "## Todays Agenda\n",
    "---\n",
    "- recap on sequnce modeling\n",
    "- Encoder Decoder and Latent space\n",
    "- Attention mechanisms\n",
    "    - dot product attention\n",
    "    - Additive attention\n",
    "    - self attention\n",
    "- Implementing attention\n",
    "- machine translation\n",
    "    - Encoder Decoder with GRU\n",
    "    - BLEU score\n",
    "    - Encoder Decoder with self attention for Alignment\n",
    "### second part\n",
    "- Transformers architecture\n",
    "- Positinal encoding\n",
    "- Inference with transformer\n",
    "- introduction to VIT"
   ]
  },
  {
   "cell_type": "markdown",
   "metadata": {},
   "source": [
    "## imports\n",
    "---"
   ]
  },
  {
   "cell_type": "code",
   "execution_count": 1,
   "metadata": {
    "slideshow": {
     "slide_type": "subslide"
    }
   },
   "outputs": [],
   "source": [
    "# Setup\n",
    "%matplotlib inline\n",
    "import os\n",
    "import sys\n",
    "import math\n",
    "import time\n",
    "import tqdm\n",
    "import matplotlib.pyplot as plt\n",
    "import warnings\n",
    "warnings.simplefilter(\"ignore\")\n",
    "\n",
    "\n",
    "# pytorch\n",
    "import torch\n",
    "import torch.nn as nn\n",
    "import torchtext\n",
    "import torchtext.data as data\n",
    "import torchtext.datasets as datasets\n",
    "import torch.nn.functional as F\n",
    "import torch.utils.data as data\n",
    "import torch.optim as optim"
   ]
  },
  {
   "cell_type": "code",
   "execution_count": 2,
   "metadata": {
    "slideshow": {
     "slide_type": "fragment"
    }
   },
   "outputs": [],
   "source": [
    "plt.rcParams['font.size'] = 20\n",
    "data_dir = os.path.expanduser('~/.pytorch-datasets')\n",
    "device = torch.device('cuda' if torch.cuda.is_available() else 'cpu')"
   ]
  },
  {
   "cell_type": "markdown",
   "metadata": {
    "slideshow": {
     "slide_type": "slide"
    }
   },
   "source": [
    "## Reminders and recaps\n",
    "---"
   ]
  },
  {
   "cell_type": "markdown",
   "metadata": {
    "slideshow": {
     "slide_type": "fragment"
    }
   },
   "source": [
    "Last tutorial we learned about RNNs:\n",
    "\n",
    "with 2 layer $l$:\n",
    "\n",
    "<center><img src=\"resources/rnn_layered.png\" width=\"1100\" /></center>\n",
    "\n",
    "Where, for each layer $l\\geq 0$ ($l_0 is input$) and \"time\" $t > 0$:\n",
    "\n",
    "$$\n",
    "\\begin{align}\n",
    "\\vec{h}_t^l &= \\varphi_1\\left( \\mat{W}_{hh}^l \\vec{h}_{t-1}^l + \\mat{W}_{xh}^l \\vec{x}_t^{l-1} + \\vec{b}_h^l\\right) \\\\\n",
    "\\vec{x}_t^l &= \\varphi_2\\left(\\mat{W}_{hy}^l\\vec{h}_t^l + \\vec{b}_x^l \\right).\n",
    "\\end{align}\n",
    "$$\n"
   ]
  },
  {
   "cell_type": "markdown",
   "metadata": {
    "slideshow": {
     "slide_type": "subslide"
    }
   },
   "source": [
    "and we remember, that with long sequnce as input, we need to deal with the problem of vanishing/exploading gradients.<br>\n",
    "that is why, we presented LSTM and GRU cells:\n",
    "\n",
    "<center><img src=\"resources/Network-Structure-of-RNN-LSTM-and-GRU.png\" width=\"1000\" /></center>\n",
    "\n",
    "as for the GRU:\n",
    "\n",
    "- **reset gate**:\n",
    "$$ R_t = \\sigma(X_tW_{xr} + H_{t-1}W_{hr} +b_r) \\in \\mathbb{R}^{n \\times h}$$\n",
    "- **update gate**:\n",
    "$$ Z_t = \\sigma(X_tW_{xz} + H_{t-1}W_{hz} +b_z) \\in \\mathbb{R}^{n \\times h} $$\n",
    "\n",
    "- **candidate hidden state**: \n",
    " $$ \\tilde{H}_{t} = \\text{tanh}\\left(X_t W_{xh} + (R_t \\odot H_{t-1})W_{hh} \\right) + b_h$$\n",
    "- **hidden state**:\n",
    "$$ H_t = Z_t \\odot H_{t-1} +(1-Z_t) \\odot \\tilde{H}_t. $$\n",
    "\n",
    "The main idea is to have \"soft-gates\" ($\\vec{r}_t$ and $\\vec{z}_t$) that control how much of the previous state ($\\vec{h}_{t-1}$) affects the next state $\\vec{h}_t$ relative to the proposed next state $\\tilde{\\vec{h}}_{t}$.\n",
    "\n",
    "and of course, we learned Bidirectional RNN:\n",
    "<center><img src=\"resources/bi.png\" width=\"900\" /></center>\n",
    "\n",
    "that for some tasks, we can aggregate hidden state from both begining and end of the sentence, and have a better idea of the real context we need to keep in $\\vec{h}_{t}$ (this does not effect the vanishing gradients)"
   ]
  },
  {
   "cell_type": "markdown",
   "metadata": {},
   "source": [
    "All of this improvments still leave us with some issues.\n",
    "\n",
    "### 1. Long inputs\n",
    "\n",
    "we saw that with CNNs, when we want a large receptive field, we need to use deeper models.\n",
    "FHD images (1080p) are 1920 x 1080 , 4K (2160p) = 3840 x 2160 and for that sizes, features across the image is hard to learn, but resnet do a [pretty good job](https://gist.github.com/samson-wang/a6073c18f2adf16e0ab5fb95b53db3e6). <br>\n",
    "\n",
    "in NLP however, RNN based models can deal with longer inputs sequnces when we use memory based cells, yet the sequnces remain couple of dozens of words.\n",
    "that means that for tasks like sentiment analysis, we would be able to read a ~100 words review. but if we want to read a book, or a wikipedia page, we will have vanishing/exploading gradients interfere, even with smarter BPTT.\n",
    "\n",
    "\n",
    "### 2. blanks\n",
    "as a hole, the RNN model help us with seq2seq or seq2one. but we didn't talk about what happen if we want to predict a word in the middle, such task from elementry school, like **\"i am ___ home\"** <br>\n",
    "this task might be very complex and can use bidirectional-RNN, but the aggregation between the context from two networks might be hard to achive.\n",
    "\n",
    "\n",
    "### 3. long-term dependencies\n",
    "one might say that we solved that with the memory based RNNs, yet soon we're going to talk about encoder-decoder models, and if you think of it, the hidden state need to encode the meaning behind the current input, as well as the dependencies in the sentence in order to propogate gradients wisely. <br>\n",
    "when we have long-term dependencies, more of the hidden state need learn the dependencies and less for understanding the meaning. here the problem is adversery while we have 2 tasks for one learning model."
   ]
  },
  {
   "cell_type": "markdown",
   "metadata": {},
   "source": [
    "We would like to have some sort of mechanism that deals with this problems<br>\n",
    "this mechanism actually exist and and called **Attention mechanism**<br>\n",
    "\n",
    "but before we dive deep into it, let's understand some other concept called **Encoder** and **Decoder**"
   ]
  },
  {
   "cell_type": "markdown",
   "metadata": {
    "slideshow": {
     "slide_type": "slide"
    }
   },
   "source": [
    "## Encoder-Decoder\n",
    "---"
   ]
  },
  {
   "cell_type": "markdown",
   "metadata": {
    "slideshow": {
     "slide_type": "subslide"
    }
   },
   "source": [
    "To rethink of the 3rd problem, let's talk a bit about what is that hidden state $h_t$.<br>\n",
    "\n",
    "We can encode the input vector into some latent space.<br>\n",
    "\n",
    "last tutorial we already saw a similar idea using the embeding layer.\n",
    "\n",
    "Now if we want to encode all the input (sequence, image...) into some **latent space**.\n",
    "\n",
    "**latent space**, also known as a latent feature space or **embedding space**, is an embedding of a set of items within a manifold in which items which resemble each other more closely are positioned closer to one another in the latent space\n",
    "\n",
    "so if in the embeding we learned for words token, the manifold was $\\mathcal{M}: \\mathcal{R}_N -> \\mathcal{R}^E$ where N is input space and $E$ is the embeding dimention,<br>\n",
    "now, we would like to use latent space to a manifold $\\mathcal{M}: \\mathcal{R}^{Sec} -> \\mathcal{R}^{E_2}$ where $\\mathcal{R}^{Sec}$ represent any input (in NLP, think of it as we have **max len** of input, so `Sec` would be from the dim $N^{max len}$)\n",
    "\n",
    "note the diffrence, now we need to learn a mapping, not from $R^1$ but the latent space should map a huge input space, therfore should typically be bigger as well\n",
    "\n",
    "<center><img src=\"resources/ed1.PNG\" width=\"900\" /></center>\n",
    "\n",
    "<center><img src=\"resources/edSEG.png\" width=\"900\" /></center>\n",
    "\n",
    "<center><img src=\"resources/edlstm.png\" width=\"900\" /></center>\n",
    "\n"
   ]
  },
  {
   "cell_type": "markdown",
   "metadata": {
    "slideshow": {
     "slide_type": "subslide"
    }
   },
   "source": [
    "# Attention\n",
    "---"
   ]
  },
  {
   "cell_type": "markdown",
   "metadata": {},
   "source": [
    "originaly presented by [Bahdanau](https://arxiv.org/pdf/1409.0473.pdf),\n",
    "\n",
    "### What is Attention?\n",
    "\n",
    "The attention mechanism describes a (sort of) new type of layers for DNN's, especially in sequence tasks but not only.<br>\n",
    "\n",
    "You can find a lot of definitions, but we're going to use it in the notion of \"the decoder learn on what part of the input to focus (pay attention to)\"<br>\n",
    "\n",
    "for some reason, attention is defined with SQL notation:\n",
    "\n",
    "- **Query**: The query is a feature vector that describes what we are looking for in the sequence, i.e. what would we maybe want to pay attention to.\n",
    "\n",
    "- **Keys**: For each input element, we have a key which is again a feature vector. This feature vector roughly describes what the element is “offering”, or when it might be important. The keys should be designed such that we can identify the elements we want to pay attention to based on the query.\n",
    "\n",
    "- **Values**: For each input element, we also have a value vector. This feature vector is the one we want to average over.\n",
    "\n",
    "- **Score function**: To rate which elements we want to pay attention to, we need to specify a score function $f_{attn}$. The score function takes the query and a key as input, and output the relecance score/attention weight of the query-key pair. It is usually implemented by simple similarity metrics like a dot product, or a small MLP.\n",
    "\n",
    "\n",
    "there is another definition of `soft attention` and `hard attention`... now we will do some math, and it's a bit confusing so try to keep up"
   ]
  },
  {
   "cell_type": "markdown",
   "metadata": {},
   "source": [
    "we will use to notation of\n",
    "- $n$ **key-value** pairs: $\\left\\{\\left(\\vec{k}_i, \\vec{v}_i\\right)\\right\\}_{i=1}^{n}$, where $\\vec{k}_i\\in\\set{R}^{d_k}$, $\\vec{v}_i\\in\\set{R}^{d_v}$\n",
    "- A **query**, $\\vec{q} \\in\\set{R}^{d_q}$ (the input)\n",
    "- **score** / **similarity** (sometimes **energy**) function between keys and queries, $f_{attn}: \\set{R}^{d_k}\\times \\set{R}^{d_q} \\mapsto \\set{R}$\n",
    "- **a** will denote Attention score"
   ]
  },
  {
   "cell_type": "markdown",
   "metadata": {},
   "source": [
    "basic attention, defined as we take this score function $f_{attn}$,between the **query** and each **key**, for each key.\n",
    "\n",
    "$$\n",
    "b_i = f_{attn}(\\vec{k}_i, \\vec{q}) \\in \\mathbb{R}, \\vec{b} \\in \\mathbb{R}^n\n",
    "$$\n",
    "\n",
    "\n",
    "we compute the **attention weights** $a_i$ as:\n",
    "\n",
    "$$\n",
    "\\vec{a} = Softmax(\\vec{b})\\\\\n",
    "\\vec{a_i} = \\frac{exp(f_{attn}(\\vec{k}_i, \\vec{q}))}{\\sum_j{exp(f_{attn}(\\vec{k}_j, \\vec{q}))}}\\\\\n",
    "$$\n",
    "\n",
    "\n",
    "`soft attention` output is\n",
    "$$\n",
    "\\vec{y} = \\sum_{i=1}^{n} a_i \\vec{v}_i\\ \\in \\set{R}^{d_v},\n",
    "$$\n",
    "\n",
    " `hard attention` output is\n",
    "\n",
    "$$\n",
    "\\vec{y} \\sim \\mathrm{Multinoulli}\\left(\\vec{a}; \\left\\{\\vec{v}_i\\right\\}_{i=1}^{n}\\right)\n",
    "$$\n"
   ]
  },
  {
   "cell_type": "markdown",
   "metadata": {
    "slideshow": {
     "slide_type": "subslide"
    }
   },
   "source": [
    "Now there are many types of score functions $f_{attn}$."
   ]
  },
  {
   "cell_type": "markdown",
   "metadata": {},
   "source": [
    "### 1. Scaled Dot Product Attention"
   ]
  },
  {
   "cell_type": "markdown",
   "metadata": {},
   "source": [
    "One basic type of attention mechanism uses a simple **dot product** as the similarity function.\n",
    "\n",
    "Widely-used by models based on the **Transformer** architecture, we're going to focus on it later on...\n",
    "\n",
    "Assume $d_k=d_q=d$\n",
    "\n",
    "$$\n",
    "f_{attn}(\\vec{k},\\vec{q})= \\frac{\\vectr{k}\\vec{q}}{\\sqrt{d}}.\n",
    "$$\n",
    "\n",
    "Why scale by $\\sqrt{d}$ ?\n",
    "\n",
    "It's the factor at which the dot-product grows due to the dimensionality. E.g.,\n",
    "\n",
    "$$\n",
    "\\norm{\\vec{1}_d}_2 = \\norm{[1,\\dots,1]\\Tr}_2 = \\sqrt{d\\cdot 1^2} =\\sqrt{d}.\n",
    "$$\n",
    "\n",
    "This helps keep the softmax values from becoming very small when the dimension is large, and therefore helps prevent tiny gradients.\n",
    "\n",
    "Let's now deal with $m$ queries simultaneously by stacking them as rows in a matrix $\\mat{Q} \\in \\set{R}^{m\\times d}$.\n",
    "\n",
    "Similarly, we'll stack the keys and values as rows in their own matrices, $\\mat{K}\\in\\set{R}^{n\\times d}$, $\\mat{V}\\in\\set{R}^{n\\times d_v}$.\n",
    "\n",
    "Then we can compute the attention weights for all queries in parallel:\n",
    "\n",
    "$$\n",
    "\\begin{align}\n",
    "\\mat{B} &= \\frac{1}{\\sqrt{d}} \\mat{Q}\\mattr{K}  \\ \\in\\set{R}^{m\\times n} \\\\\n",
    "\\mat{A} &= softmax({\\frac{\\mat{Q}\\mattr{K}}{\\sqrt{d}}}) \\in\\set{R}^{m\\times n} \\\\\n",
    "\\mat{Y} &= \\mat{A}\\mat{V} \\ \\in\\set{R}^{m\\times d_v}.\n",
    "\\end{align}\n",
    "$$\n",
    "\n",
    "Note that the softmax is applied per-row, and so each row $i$ of $\\mat{A}$ contains the attention weights for the $i$th query.\n",
    "\n",
    "Also notice that in this formulation, we **input a sequence** of $m$ queries and get an **output sequence** of $m$ weighed values."
   ]
  },
  {
   "cell_type": "markdown",
   "metadata": {},
   "source": [
    "<center><img src=\"resources/dotattn.PNG\" width=\"400\" /></center>\n",
    "\n",
    "`mask` is optional for specific inputs, as for some tasks, we don't want to use the same index for learning (if we want to predict the missing word for instance) \n"
   ]
  },
  {
   "cell_type": "code",
   "execution_count": 3,
   "metadata": {},
   "outputs": [],
   "source": [
    "def scaled_dot_product(q, k, v, mask=None):\n",
    "    d_k = q.size()[-1]\n",
    "    attn_logits = torch.matmul(q, k.transpose(-2, -1))\n",
    "    attn_logits = attn_logits / math.sqrt(d_k)\n",
    "    if mask is not None:\n",
    "        attn_logits = attn_logits.masked_fill(mask == 0, -9e15)\n",
    "    attention = F.softmax(attn_logits, dim=-1)\n",
    "    values = torch.matmul(attention, v)\n",
    "    return values, attention"
   ]
  },
  {
   "cell_type": "code",
   "execution_count": 4,
   "metadata": {},
   "outputs": [
    {
     "name": "stdout",
     "output_type": "stream",
     "text": [
      "Q\n",
      " tensor([[-0.4367,  0.7536],\n",
      "        [ 1.9926, -0.6255],\n",
      "        [ 1.0077,  0.6951]])\n",
      "K\n",
      " tensor([[-0.2703,  0.2548],\n",
      "        [ 0.7064, -0.2260],\n",
      "        [ 0.8416,  1.4440]])\n",
      "V\n",
      " tensor([[ 1.0389,  0.3326],\n",
      "        [-0.3039, -0.4371],\n",
      "        [-0.9877,  0.6341]])\n",
      "Values\n",
      " tensor([[-0.1566,  0.3197],\n",
      "        [-0.3719, -0.0015],\n",
      "        [-0.5127,  0.3289]])\n",
      "Attention\n",
      " tensor([[0.3437, 0.1968, 0.4595],\n",
      "        [0.1146, 0.5611, 0.3243],\n",
      "        [0.1528, 0.2419, 0.6053]])\n"
     ]
    }
   ],
   "source": [
    "seq_len, d_k = 3, 2\n",
    "q = torch.randn(seq_len, d_k)\n",
    "k = torch.randn(seq_len, d_k)\n",
    "v = torch.randn(seq_len, d_k)\n",
    "values, attention = scaled_dot_product(q, k, v)\n",
    "print(\"Q\\n\", q)\n",
    "print(\"K\\n\", k)\n",
    "print(\"V\\n\", v)\n",
    "print(\"Values\\n\", values)\n",
    "print(\"Attention\\n\", attention)"
   ]
  },
  {
   "cell_type": "markdown",
   "metadata": {},
   "source": [
    "### 2. Multiplicative attention"
   ]
  },
  {
   "cell_type": "markdown",
   "metadata": {},
   "source": [
    "now assime Assume $d_k \\ne d_q$\n",
    "\n",
    "we can preform something similar to before, as \n",
    "$$\n",
    "f_{attn}(\\vec{k},\\vec{q})= {\\vectr{k}\\vec{W}\\vec{q}}; W \\in \\mathcal{R}^{d_k x d_q}\n",
    "$$\n",
    "\n",
    "note that in that case we just add one learnable layer that learn the relation between the keys and queries"
   ]
  },
  {
   "cell_type": "markdown",
   "metadata": {},
   "source": [
    "### 3. Additive attention"
   ]
  },
  {
   "cell_type": "markdown",
   "metadata": {},
   "source": [
    "Another common type of attention mechanism uses an MLP to **learn** the similarity function $e(\\vec{k},\\vec{q})$.\n",
    "\n",
    "In this type of attention, the similarity function is \n",
    "\n",
    "$$\n",
    "f_{attn}(\\vec{k},\\vec{q}) = \\vectr{w} \\tanh(\\mat{W}_k\\vec{k} + \\mat{W}_q\\vec{q}),\n",
    "$$\n",
    "\n",
    "where $\\mat{W}_k\\in\\set{R}^{h\\times d_k}$, $\\mat{W}_q\\in\\set{R}^{h\\times d_q}$ and $\\vec{w}\\in\\set{R}^{h}$ are trainable parameters.\n",
    "\n",
    "- Notice that we're adding projected versions of the key and query and applying a 2-layer MLP.\n",
    "- Both projections and the output layer are trainable.\n",
    "\n",
    "**This Attention mechanisem is less in use, thus we're not going to focus on the visuallization and implementation**.\n",
    "if you do want to implement it, [here is an example](https://sigmoidal.io/implementing-additive-attention-in-pytorch/)"
   ]
  },
  {
   "cell_type": "markdown",
   "metadata": {},
   "source": [
    "## Self Attention\n",
    "---"
   ]
  },
  {
   "cell_type": "markdown",
   "metadata": {},
   "source": [
    "Self-attention refers to applying attention on a **single sequence**  $\\left\\{\\vec{x}_i\\right\\}_{i=1}^{n}$ of elements.\n",
    "\n",
    "The keys, values and queries are Computed from them with **learned** linear projections, i.e.\n",
    "$$\n",
    "\\begin{align*}\n",
    "\\vec{q}_{i} &= \\mat{W}_{xq}\\vec{x}_{i} &\n",
    "\\vec{k}_{i} &= \\mat{W}_{xk}\\vec{x}_{i} &\n",
    "\\vec{v}_{i} &= \\mat{W}_{xv}\\vec{x}_{i} \n",
    "\\end{align*}\n",
    "$$\n",
    "This is what Transformer models do for Seq2Seq, instead of using RNNs."
   ]
  },
  {
   "cell_type": "markdown",
   "metadata": {},
   "source": [
    "For example, the following image depicts dot product self-attention transforming the sequence $\\left\\{\\vec{x}_i\\right\\}_{i=1}^{n}$ into the sequence $\\left\\{\\vec{y}_i\\right\\}_{i=1}^{n}$.\n",
    "\n",
    "<center><img src=\"resources/self_attn_transformer.svg\" width=900></center>"
   ]
  },
  {
   "cell_type": "markdown",
   "metadata": {},
   "source": [
    "## Sequence-to-Sequence Machine Translation\n",
    "---"
   ]
  },
  {
   "cell_type": "markdown",
   "metadata": {},
   "source": [
    "In this part we'll translate text from German to English.\n",
    "\n",
    "The general approach using RNNs is to design a Sequence-to-sequence (**Seq2Seq**) Encoder-Decoder architecture:\n",
    "\n",
    "<center><img src=\"resources/seq2seq1.png\" width=\"1100\" /></center>"
   ]
  },
  {
   "cell_type": "markdown",
   "metadata": {},
   "source": [
    "- The encoder processes the source sequence\n",
    "- The final encoder hidden state represents the entire source sequence\n",
    "- This representation is passed to the decoder as it's initial hidden state\n",
    "- During training the decoder is fed with the target sequence\n",
    "- Both parts are trained together, end to end\n",
    "\n",
    "We'll implement this idea roughly based on [Sutskever et al. (2014)](https://arxiv.org/abs/1409.3215), then we're going to add attention"
   ]
  },
  {
   "cell_type": "markdown",
   "metadata": {},
   "source": [
    "### Dataset\n",
    "\n",
    "We'll use the [Multi30K](https://www.statmt.org/wmt16/multimodal-task.html) Multimodal Dataset, which contains 30K images and sentences describing them in both German and English. We'll only use the textual data.\n",
    "\n",
    "The `torchtext` package provides us with a convenient way to load our dataset."
   ]
  },
  {
   "cell_type": "code",
   "execution_count": 5,
   "metadata": {},
   "outputs": [],
   "source": [
    "from torchtext.datasets import Multi30k\n",
    "from torchtext.data import Field\n",
    "\n",
    "# Common args for field objects\n",
    "field_args = dict(tokenize='spacy',\n",
    "                  init_token='<sos>',\n",
    "                  eos_token='<eos>',\n",
    "                  include_lengths=True,\n",
    "                  lower=True) \n",
    "\n",
    "# Field for processing German source\n",
    "src_field = Field(tokenizer_language=\"de_core_news_sm\", **field_args)\n",
    "\n",
    "# Field for processing English target\n",
    "tgt_field = Field(tokenizer_language=\"en_core_web_sm\", **field_args)"
   ]
  },
  {
   "cell_type": "code",
   "execution_count": 6,
   "metadata": {},
   "outputs": [],
   "source": [
    "ds_train, ds_valid, ds_test = Multi30k.splits(\n",
    "    root=data_dir, exts=('.de', '.en'), fields=(src_field, tgt_field)\n",
    ")\n",
    "\n",
    "VOCAB_MIN_FREQ = 2 # ignore very rare words to decrease vocab size\n",
    "src_field.build_vocab(ds_train, min_freq=VOCAB_MIN_FREQ)\n",
    "tgt_field.build_vocab(ds_train, min_freq=VOCAB_MIN_FREQ)"
   ]
  },
  {
   "cell_type": "code",
   "execution_count": 7,
   "metadata": {},
   "outputs": [
    {
     "name": "stdout",
     "output_type": "stream",
     "text": [
      "#train samples:  29000\n",
      "#valid samples:  1014\n",
      "#test  samples:  1000\n"
     ]
    }
   ],
   "source": [
    "print('#train samples: ', len(ds_train))\n",
    "print('#valid samples: ', len(ds_valid))\n",
    "print('#test  samples: ', len(ds_test))"
   ]
  },
  {
   "cell_type": "code",
   "execution_count": 8,
   "metadata": {},
   "outputs": [
    {
     "name": "stdout",
     "output_type": "stream",
     "text": [
      "source vocab size: 7854\n",
      "target vocab size: 5893\n"
     ]
    }
   ],
   "source": [
    "V_src = len(src_field.vocab)\n",
    "print(f'source vocab size: {V_src}')\n",
    "\n",
    "V_tgt = len(tgt_field.vocab)\n",
    "print(f'target vocab size: {V_tgt}')"
   ]
  },
  {
   "cell_type": "markdown",
   "metadata": {},
   "source": [
    "Let's look at some random sample"
   ]
  },
  {
   "cell_type": "code",
   "execution_count": 9,
   "metadata": {},
   "outputs": [
    {
     "name": "stdout",
     "output_type": "stream",
     "text": [
      "sample #05010:\n",
      "\tDE: junge im schnee zeigt beide daumen hoch .\n",
      "\tEN: a boy gives being in the snow two thumbs up .\n",
      "sample #08098:\n",
      "\tDE: drei typen sind dabei , backflips auszuführen .\n",
      "\tEN: three guys are in the middle of doing back flips .\n",
      "sample #11091:\n",
      "\tDE: ein kleiner hund mit einem grünen pullover und einem rucksack läuft durch den schnee .\n",
      "\tEN: a small dog wearing a green sweater and a backpack walks through snow .\n",
      "sample #23231:\n",
      "\tDE: eine junger blonder junge , der eine nummer vorne auf seinem t-shirt trägt , lehnt auf einem geländer .\n",
      "\tEN: a young blond - haired boy wearing a number on the front of him leans on a railing .\n",
      "sample #13162:\n",
      "\tDE: ein schwarzer pitbull läuft durch den dreck .\n",
      "\tEN: a black pitbull dog is running through the dirt .\n"
     ]
    }
   ],
   "source": [
    "import random\n",
    "for _ in range(5):\n",
    "    i = random.randrange(len(ds_train))\n",
    "    example = ds_train[i]\n",
    "    src = str.join(\" \", example.src)\n",
    "    tgt = str.join(\" \", example.trg)\n",
    "    print(f'sample #{i:05d}:\\n\\tDE: {src}\\n\\tEN: {tgt}')"
   ]
  },
  {
   "cell_type": "markdown",
   "metadata": {},
   "source": [
    "Let's check the top 20 words in english and german and the numbers assigned for known tokens"
   ]
  },
  {
   "cell_type": "code",
   "execution_count": 10,
   "metadata": {},
   "outputs": [
    {
     "name": "stdout",
     "output_type": "stream",
     "text": [
      "DE top20: ['<unk>', '<pad>', '<sos>', '<eos>', '.', 'ein', 'einem', 'in', 'eine', ',', 'und', 'mit', 'auf', 'mann', 'einer', 'der', 'frau', 'die', 'zwei', 'einen']\n",
      "\n",
      "EN top20: ['<unk>', '<pad>', '<sos>', '<eos>', 'a', '.', 'in', 'the', 'on', 'man', 'is', 'and', 'of', 'with', 'woman', ',', 'two', 'are', 'to', 'people']\n",
      "\n",
      "<unk>=0, <pad>=1\n"
     ]
    }
   ],
   "source": [
    "topn = 20\n",
    "print(f'DE top{topn}: {src_field.vocab.itos[0:topn]}\\n')\n",
    "print(f'EN top{topn}: {tgt_field.vocab.itos[0:topn]}\\n')\n",
    "\n",
    "\n",
    "\n",
    "UNK_TOKEN = tgt_field.vocab.stoi['<unk>']\n",
    "PAD_TOKEN = tgt_field.vocab.stoi['<pad>']\n",
    "print(f'<unk>={UNK_TOKEN}, <pad>={PAD_TOKEN}')"
   ]
  },
  {
   "cell_type": "code",
   "execution_count": 11,
   "metadata": {},
   "outputs": [],
   "source": [
    "from torchtext.data import BucketIterator\n",
    "\n",
    "BATCH_SIZE = 4\n",
    "dl_train, dl_valid, dl_test = BucketIterator.splits((ds_train, ds_valid, ds_test), batch_size = BATCH_SIZE)"
   ]
  },
  {
   "cell_type": "code",
   "execution_count": 12,
   "metadata": {},
   "outputs": [
    {
     "name": "stdout",
     "output_type": "stream",
     "text": [
      "x0 (S1, B):\n",
      " tensor([[   2,    2,    2,    2],\n",
      "        [  17,    8,    8,   18],\n",
      "        [4467, 7618,   16,   30],\n",
      "        [  65,    9,    7,  279],\n",
      "        [ 302,   17, 3749,   12],\n",
      "        [   7,   20,    0,  134],\n",
      "        [  17,  248,  288,    0],\n",
      "        [ 115, 1142,   12,    9],\n",
      "        [   9, 2610,  172,   35],\n",
      "        [  35,   29,  195,    5],\n",
      "        [  44,    4,   55,  244],\n",
      "        [  22,    3,   91,   17],\n",
      "        [ 205,    1,    4, 2928],\n",
      "        [  17,    1,    3, 7491],\n",
      "        [ 995,    1,    1,    4],\n",
      "        [   0,    1,    1,    3],\n",
      "        [   4,    1,    1,    1],\n",
      "        [   3,    1,    1,    1]]) torch.Size([18, 4])\n",
      "x0_len (B,):\n",
      " tensor([18, 12, 14, 16]) torch.Size([4])\n",
      "y0 (S2, B)):\n",
      " tensor([[   2,    2,    2,    2],\n",
      "        [   7,    4,    4,   16],\n",
      "        [ 178,  523,   14,   30],\n",
      "        [  42,   36,    6,   17],\n",
      "        [ 210,    6,  909,  254],\n",
      "        [  63,    7,   78,   18],\n",
      "        [ 527,  240,  352,  247],\n",
      "        [  20,   12,   78, 3078],\n",
      "        [   7,   44,   44,   15],\n",
      "        [ 116,  316,  198,   28],\n",
      "        [  28,    5,    8,   82],\n",
      "        [  46,    3,    7, 1692],\n",
      "        [  12,    1,   88,    7],\n",
      "        [ 155,    1,    5,    0],\n",
      "        [ 758,    1,    3,    5],\n",
      "        [  27,    1,    1,    3],\n",
      "        [1069,    1,    1,    1],\n",
      "        [  75,    1,    1,    1],\n",
      "        [   5,    1,    1,    1],\n",
      "        [   3,    1,    1,    1]]) torch.Size([20, 4])\n",
      "y0_len: (B,)\n",
      " tensor([20, 12, 15, 16]) torch.Size([4])\n"
     ]
    }
   ],
   "source": [
    "# dataloader returns a Batch object with .src and .trg attributes\n",
    "b0 = next(iter(dl_train))\n",
    "\n",
    "# The .src/.trg attributes contain tuples of sequences and their lengths\n",
    "# Get batches of sequences \n",
    "x0, x0_len = b0.src\n",
    "y0, y0_len =  b0.trg\n",
    "\n",
    "print('x0 (S1, B):\\n', x0, x0.shape)\n",
    "print('x0_len (B,):\\n', x0_len, x0_len.shape)\n",
    "print('y0 (S2, B)):\\n', y0, y0.shape)\n",
    "print('y0_len: (B,)\\n', y0_len, y0_len.shape)"
   ]
  },
  {
   "cell_type": "markdown",
   "metadata": {},
   "source": [
    "### Model\n",
    "\n",
    "Our `encoder` will start very simple. \n",
    "- Embed each source-language token in the sequence into a dense vector representation\n",
    "- Feed the sequence through an RNN (i like GRU, so we would use 2-layers GRU)\n",
    "- Output the final hidden states from each layer\n",
    "\n",
    "Note that we also return the intermediate hidden states from the last layer. We'll need these later."
   ]
  },
  {
   "cell_type": "code",
   "execution_count": 13,
   "metadata": {},
   "outputs": [],
   "source": [
    "import torch.nn as nn\n",
    "\n",
    "class Seq2SeqEncoder(nn.Module):\n",
    "    def __init__(self, vocab_size, embedding_dim, num_layers, h_dim, dropout=0.2):\n",
    "        super().__init__()\n",
    "        \n",
    "        # nn.Embedding converts from token index to dense tensor\n",
    "        self.embedding = nn.Embedding(vocab_size, embedding_dim)\n",
    "        \n",
    "        # PyTorch multilayer GRU RNN\n",
    "        self.rnn = nn.GRU(embedding_dim, h_dim, num_layers=num_layers, dropout=dropout)\n",
    "        \n",
    "        # Encoder has no output layer; we just return hidden states.\n",
    "        \n",
    "    def forward(self, x, **kw):\n",
    "        # x shape: (S, B) Note batch dim is not first!\n",
    "        S, B = x.shape\n",
    "        embedded = self.embedding(x) # embedded shape: (S, B, E)\n",
    "        \n",
    "        # GRU first  output: output of each token (of the last layer) (S, B, H)\n",
    "        # GRU second output: last hidden state from each layer (L, B, H)\n",
    "        y, ht = self.rnn(embedded)\n",
    "        return y, ht"
   ]
  },
  {
   "cell_type": "markdown",
   "metadata": {},
   "source": [
    "sainity check"
   ]
  },
  {
   "cell_type": "code",
   "execution_count": 14,
   "metadata": {},
   "outputs": [
    {
     "name": "stdout",
     "output_type": "stream",
     "text": [
      "y (S1, B, H): torch.Size([18, 4, 64])\n",
      "ht (L, B, H): torch.Size([2, 4, 64])\n"
     ]
    }
   ],
   "source": [
    "EMB_DIM = 128\n",
    "HID_DIM = 64\n",
    "NUM_LAYERS = 2\n",
    "\n",
    "enc = Seq2SeqEncoder(V_src, EMB_DIM, NUM_LAYERS, HID_DIM)\n",
    "y, ht = enc(x0)\n",
    "print(f'y (S1, B, H): {y.shape}')\n",
    "print(f'ht (L, B, H): {ht.shape}')"
   ]
  },
  {
   "cell_type": "markdown",
   "metadata": {},
   "source": [
    "Note again that the output dim is [x,btz,hidden], where x changes?\n",
    "\n",
    "that's because of the bucket iterator that each time aligned to the maximum lenth input\n",
    "\n",
    "Now for the `decoder`. We need to:\n",
    "- Embed target-language tokens\n",
    "- Apply RNN to the sequence, with initial hidden state from encoder\n",
    "- Output is projection of intermediate hidden states from last layer to target-language tokens\n"
   ]
  },
  {
   "cell_type": "code",
   "execution_count": 15,
   "metadata": {},
   "outputs": [],
   "source": [
    "class Seq2SeqDecoder(nn.Module):\n",
    "    def __init__(self, vocab_size, embedding_dim, num_layers, h_dim, dropout=0.2):\n",
    "        super().__init__()\n",
    "        \n",
    "        # nn.Embedding converts from token index to dense tensor\n",
    "        self.embedding = nn.Embedding(vocab_size, embedding_dim)\n",
    "        \n",
    "        # PyTorch multilayer GRU RNN\n",
    "        self.rnn = nn.GRU(embedding_dim, h_dim, num_layers=num_layers, dropout=dropout)\n",
    "        \n",
    "        # Output layer, note the output dimension!\n",
    "        self.out_fc = nn.Linear(h_dim, vocab_size)\n",
    "        \n",
    "    def forward(self, x, context, **kw):\n",
    "        # x shape: (S, B) the target-language sequence\n",
    "        # context: (L, B, H) the last hidden state from the encoder\n",
    "        S, B = x.shape\n",
    "        embedded = self.embedding(x) # embedded shape: (S, B, E)\n",
    "        \n",
    "        # Note initial hidden state is the input context vector\n",
    "        # h:  all out states from last layer (S, B, H)\n",
    "        # ht: last hidden state from each layer (L, B, H)\n",
    "        y, ht = self.rnn(embedded, context)\n",
    "        \n",
    "        # Project H back to the vocab size V, to get a score per word\n",
    "        out = self.out_fc(y)\n",
    "        \n",
    "        # Out shapes: (S, B, V) and (L, B, H)\n",
    "        return out, ht"
   ]
  },
  {
   "cell_type": "markdown",
   "metadata": {},
   "source": [
    "Test the decoder with the corresponding batch of English sentences:"
   ]
  },
  {
   "cell_type": "code",
   "execution_count": 16,
   "metadata": {},
   "outputs": [
    {
     "name": "stdout",
     "output_type": "stream",
     "text": [
      "yhat (S2, B, V_tgt): torch.Size([20, 4, 5893])\n"
     ]
    }
   ],
   "source": [
    "dec = Seq2SeqDecoder(V_tgt, EMB_DIM, NUM_LAYERS, HID_DIM)\n",
    "yhat, _ = dec(y0, ht) # note possibly different S\n",
    "print(f'yhat (S2, B, V_tgt): {yhat.shape}')"
   ]
  },
  {
   "cell_type": "markdown",
   "metadata": {},
   "source": [
    "Next, we'll implement a `Seq2Seq` class to handle the combined forward pass through both the encoder and decoder.\n",
    "\n",
    "We saw that we need to input the target sequence to the decoder.\n",
    "That's fine for training.\n",
    "But what do we do for inference, when we obviously don't know the target sequence?\n",
    "\n",
    "During the forward pass, we'll take a source and target sequence and:\n",
    "- **source**: Forward the source sequence through the encoder, obtaining the final hidden state.\n",
    "- **target**: For the decoder, we'll either do:\n",
    "    - **Teacher forcing**: Feed the decoder tokens from the target sequence one by one.\n",
    "    - **Greedy prediction**: Use the decoder's output to predict the most likely next token, and feed it.\n",
    "\n",
    "The greedy prediction approach is what we'll use for inference. For training we'll use **both**."
   ]
  },
  {
   "cell_type": "markdown",
   "metadata": {},
   "source": [
    "Teacher forcing:\n",
    "<center><img src=\"resources/seq2seq.svg\" width=\"1100\"></center>\n",
    "\n",
    "Greedy prediction:\n",
    "<center><img src=\"resources/seq2seq_predict.svg\" width=\"1100\"></center>\n"
   ]
  },
  {
   "cell_type": "markdown",
   "metadata": {},
   "source": [
    "Note that obviously in both cases the target sequence is still used to compute the loss.\n",
    "\n",
    "Teacher forcing can speed up training, but it can hurt generalization. We'll take a probabilistic approach:\n",
    "- Use teacher forcing with some probability $p_\\mathrm{tf}$.\n",
    "- Start $p_\\mathrm{tf}$ high and decrease each epoch.\n",
    "- For inference, set $p_\\mathrm{tf}=0$."
   ]
  },
  {
   "cell_type": "code",
   "execution_count": 17,
   "metadata": {},
   "outputs": [],
   "source": [
    "class Seq2Seq(nn.Module):\n",
    "    def __init__(self, encoder: Seq2SeqEncoder, decoder: Seq2SeqDecoder):\n",
    "        super().__init__()\n",
    "        self.enc = encoder\n",
    "        self.dec = decoder\n",
    "    \n",
    "    def forward(self, x_src, x_tgt, p_tf=0, **kw):\n",
    "        # input shapes: (S1, B), (S2, B)\n",
    "        # p_tf: probaility of teacher-forcing decoder input. Zero means greedy-search prediction.\n",
    "        S2, B = x_tgt.shape\n",
    "        \n",
    "        # Forward pass through encoder (entire source seq together)\n",
    "        # context is (L, B, H)\n",
    "        enc_h, context = self.enc(x_src, **kw)\n",
    "        \n",
    "        # First input is first target token\n",
    "        dec_input = x_tgt[[0], :] # (1, B)\n",
    "        # Loop over tokens in target sequence and feed them to the decoder\n",
    "        dec_outputs = []\n",
    "        for t in range(1, S2):\n",
    "            # Feed the decoder sequences of length 1 & save new context\n",
    "            # dec_output is (1, B, V)\n",
    "            # Note: enc_h is for Part 2, ignored by Part 1's decoder\n",
    "            dec_output, context = self.dec(dec_input, context, enc_h=enc_h, **kw)\n",
    "            dec_outputs.append(dec_output)\n",
    "            \n",
    "            # For next input, take either:\n",
    "            # - next target token (AKA \"teacher forcing\"), with proba p_tf\n",
    "            # - highest scoring output (greedy prediction of next token), with proba 1-p_tf\n",
    "            if p_tf > torch.rand(1).item():\n",
    "                dec_input = x_tgt[[t], :] # (1, B)\n",
    "            else:\n",
    "                dec_input = torch.argmax(dec_output, dim=2) # (1,B,V) -> (1, B)\n",
    "            \n",
    "        # Stack decoder outputs from all timesteps\n",
    "        y_hat = torch.cat(dec_outputs, dim=0) # (S-1)x(1,B,V) -> (S-1,B,V)\n",
    "        \n",
    "        # Output shape: (S-1, B, V)\n",
    "        return y_hat"
   ]
  },
  {
   "cell_type": "markdown",
   "metadata": {},
   "source": [
    "and simple test of it:"
   ]
  },
  {
   "cell_type": "code",
   "execution_count": 18,
   "metadata": {},
   "outputs": [
    {
     "name": "stdout",
     "output_type": "stream",
     "text": [
      "y_hat: (S-1, B, V_tgt) = (19, 4, 5893)\n"
     ]
    }
   ],
   "source": [
    "seq2seq_model = Seq2Seq(enc, dec)\n",
    "yhat = seq2seq_model(x0, y0)\n",
    "print('y_hat: (S-1, B, V_tgt) =', tuple(yhat.shape))"
   ]
  },
  {
   "cell_type": "markdown",
   "metadata": {},
   "source": [
    "### Training and evaluation\n",
    "\n",
    "The training logic is fairly standard, with only a few nuances:\n",
    "- Notice that the output sequence is shorter than the ground truth due to the `<sos>` token\n",
    "- Clip gradient norm to prevent high grads and stabilize training\n",
    "- When computing the loss, we'll use **Cross Entropy**, but ignore the `<pad>` tokens\n",
    "\n",
    "The following code trains the model for a **single epoch**:"
   ]
  },
  {
   "cell_type": "code",
   "execution_count": 19,
   "metadata": {},
   "outputs": [],
   "source": [
    "def train_seq2seq(model, dl_train, optimizer, loss_fn, p_tf=1., clip_grad=1., max_batches=None):\n",
    "    losses = []\n",
    "    with tqdm.tqdm(total=(max_batches if max_batches else len(dl_train)), file=sys.stdout) as pbar:\n",
    "        for idx_batch, batch in enumerate(dl_train, start=1):\n",
    "            x, x_len = batch.src\n",
    "            y, y_len =  batch.trg\n",
    "\n",
    "            # Forward pass: encoder and decoder\n",
    "            # Output y_hat is the translated sequence\n",
    "            y_hat = model(x, y, p_tf, src_len=x_len)\n",
    "            S, B, V = y_hat.shape\n",
    "\n",
    "            # y[:,i] is <sos>, w_1, w_2, ..., w_k, <eos>, <pad>, ...\n",
    "            # y_hat is   w_1', w_2', ..., w_k', <eos>', <pad>', ...\n",
    "            # based on the above, get ground truth y\n",
    "            y_gt = y[1:, :].reshape(S*B)  # drop <sos>\n",
    "            y_hat = y_hat.reshape(S*B, V)\n",
    "\n",
    "            # Calculate loss compared to ground truth y\n",
    "            optimizer.zero_grad()\n",
    "            loss = loss_fn(y_hat, y_gt)\n",
    "            loss.backward()\n",
    "\n",
    "            # Prevent large gradients\n",
    "            if clip_grad > 0:\n",
    "                torch.nn.utils.clip_grad_norm_(model.parameters(), clip_grad)\n",
    "\n",
    "            # Update parameters\n",
    "            optimizer.step()\n",
    "\n",
    "            losses.append(loss.item())\n",
    "            pbar.update(); pbar.set_description(f'train loss={losses[-1]:.3f}')\n",
    "            if max_batches and idx_batch >= max_batches:\n",
    "                break\n",
    "    return losses"
   ]
  },
  {
   "cell_type": "markdown",
   "metadata": {},
   "source": [
    "In evaluation mode, we do roughly the same, but make sure to not use teacher forcing.\n",
    "\n",
    "Accuracy migh be a little tricky  in the context of machine translation.\n",
    "\n",
    "we could translate the sentence \"ילד קטן הלך לגן\"<br>\n",
    "as \"There is a little kid that went to the daycare\"<br>\n",
    "or \"A little kid went to daycare\"<br>\n",
    "or \"A small child went to the kindergarden\"<br>\n",
    "\n",
    "and all are valid, so if we use the first one as refrence, how would we know if our model preformed well?"
   ]
  },
  {
   "cell_type": "markdown",
   "metadata": {},
   "source": [
    "### Bleu score\n",
    "---"
   ]
  },
  {
   "cell_type": "markdown",
   "metadata": {},
   "source": [
    "stands for bilingual evaluation understudy.\n",
    "\n",
    "the simple sentence bleu score is given by a unigram precision\n",
    "$$\n",
    "\\mathcal{P} = \\frac{M}{w_t}\n",
    "$$\n",
    "where $M$ is the apearances of words in our prediction that exist in the ground truth, and $w_t$ is the prediction lenght.\n",
    "\n",
    "note that there could be more then one ground truth, and sometimes we use more then one as reference\n",
    "\n",
    "let's demostrate with an example and modify a bit:<br>\n",
    "Candidate prediction: `the the the the the the the`<br>\n",
    "Reference 1: `the cat is on the mat`<br>\n",
    "Reference 2: `there is a cat on the mat` <br>\n",
    "\n",
    "now the unigram bleu score would be $\\frac{7}{7} = 1$<br>\n",
    "\n",
    "the common modification is to use $M_{max}$ means the maximum from all the refrences of a word.<br>\n",
    "in our case the word `the` apear maximum twice and the new score would be $\\frac{2}{7}$<br>\n",
    "\n",
    "\n",
    "another common way to measure Bleu score is on bigrams (remember? 2-grams!)<br>\n",
    "\n",
    "in a similar way, we would count all bigrams in our prediction, and for each bigram, we would use the `count_clip`, the same as in unigram (if the words `the the` apeare 6 times, but 0 times in the refrences and so we clip it to 0), then we sum all cout_clip of bigram and get:\n",
    "\n",
    "$$\n",
    "\\mathcal{P} = \\frac{\\sum_{bigrams}count clip}{w_t}\n",
    "$$\n",
    "\n",
    "\n",
    "another score for NLP tasks is **LEPOR** (Length Penalty, Precision, n-gram Position difference Penalty and Recall)<br>\n",
    "this score is complex, with tuned parameters and we're not going to use it, but you can read more in [here](https://arxiv.org/ftp/arxiv/papers/1703/1703.08748.pdf)\n",
    "(it is actually a masters work from 2014)."
   ]
  },
  {
   "cell_type": "markdown",
   "metadata": {},
   "source": [
    "so now we will use a metric called BLEU score.\n",
    "Here we just use a function from the `nltk` package to calculate it, as an example."
   ]
  },
  {
   "cell_type": "code",
   "execution_count": 20,
   "metadata": {},
   "outputs": [],
   "source": [
    "import numpy as np\n",
    "from nltk.translate.bleu_score import sentence_bleu\n",
    "\n",
    "def eval_seq2seq(model, dl_test):\n",
    "    accuracies = []\n",
    "    bleus = []\n",
    "    with tqdm.tqdm(total=len(dl_test), file=sys.stdout) as pbar:\n",
    "        for idx_batch, batch in enumerate(dl_test):\n",
    "            x, x_len = batch.src\n",
    "            y, y_len =  batch.trg\n",
    "\n",
    "            with torch.no_grad():\n",
    "                # Note: no teacher forcing in eval\n",
    "                y_hat = model(x, y, p_tf=0, src_len=x_len)\n",
    "\n",
    "            S, B, V = y_hat.shape\n",
    "\n",
    "            y_gt = y[1:, :] # drop <sos>\n",
    "            y_hat = torch.argmax(y_hat, dim=2) # greedy-sample (S, B, V) -> (S,B)\n",
    "\n",
    "            # Compare prediction to ground truth\n",
    "            accuracies.append(torch.sum(y_gt == y_hat) / float(S))\n",
    "            bleus.append(np.mean([\n",
    "                sentence_bleu([y_gt[:, i]], y_hat[:, i]) for i in range(B)\n",
    "            ]))\n",
    "\n",
    "            pbar.update(); pbar.set_description(f'eval acc={accuracies[-1]}')\n",
    "    return accuracies, bleus"
   ]
  },
  {
   "cell_type": "code",
   "execution_count": 21,
   "metadata": {},
   "outputs": [
    {
     "name": "stdout",
     "output_type": "stream",
     "text": [
      "=== EPOCH 1/2, p_tf=1.00 ===\n",
      "train loss=3.682: 100%|██████████| 454/454 [03:48<00:00,  1.98it/s]\n",
      "eval acc=4.333333492279053: 100%|██████████| 16/16 [00:02<00:00,  5.95it/s] \n",
      "=== EPOCH 2/2, p_tf=0.95 ===\n",
      "train loss=3.479: 100%|██████████| 454/454 [03:42<00:00,  2.04it/s]\n",
      "eval acc=5.4242424964904785: 100%|██████████| 16/16 [00:02<00:00,  6.03it/s]\n"
     ]
    }
   ],
   "source": [
    "# Use small model and dataset so that training is fast, just an example\n",
    "BATCH_SIZE = 64\n",
    "EMB_DIM = 64\n",
    "HID_DIM = 128\n",
    "NUM_LAYERS = 2\n",
    "GRAD_CLIP = 1.\n",
    "EPOCHS = 2 #20\n",
    "BATCHES_PER_EPOCH= 50 #454\n",
    "\n",
    "dl_train, dl_valid, dl_test = BucketIterator.splits((ds_train, ds_valid, ds_test), batch_size=BATCH_SIZE)\n",
    "\n",
    "enc = Seq2SeqEncoder(V_src, EMB_DIM, NUM_LAYERS, HID_DIM)\n",
    "dec = Seq2SeqDecoder(V_tgt, EMB_DIM, NUM_LAYERS, HID_DIM)\n",
    "seq2seq_model = Seq2Seq(enc, dec)\n",
    "\n",
    "\n",
    "optimizer = torch.optim.Adam(seq2seq_model.parameters(), lr=1e-2)\n",
    "\n",
    "# Note: We don't compute loss from padding tokens\n",
    "loss_fn = nn.CrossEntropyLoss(ignore_index=PAD_TOKEN)\n",
    "\n",
    "losses = []\n",
    "accuracies = []\n",
    "bleus = []\n",
    "for idx_epoch in range(EPOCHS):\n",
    "    # Linearly decay amount of teacher forcing for the first 20 epochs (example)\n",
    "    p_tf = 1 - min((idx_epoch / 20), 1)\n",
    "    \n",
    "    print(f'=== EPOCH {idx_epoch+1}/{EPOCHS}, p_tf={p_tf:.2f} ===')\n",
    "    losses += train_seq2seq(seq2seq_model, dl_train, optimizer, loss_fn, p_tf, GRAD_CLIP)#, BATCHES_PER_EPOCH)\n",
    "    acc,bleu = eval_seq2seq(seq2seq_model, dl_valid)\n",
    "    accuracies += acc\n",
    "    bleus += bleu"
   ]
  },
  {
   "cell_type": "code",
   "execution_count": 22,
   "metadata": {},
   "outputs": [
    {
     "data": {
      "image/png": "[encoded data removed]",
      "text/plain": [
       "<Figure size 1080x360 with 2 Axes>"
      ]
     },
     "metadata": {
      "needs_background": "light"
     },
     "output_type": "display_data"
    }
   ],
   "source": [
    "fig, ax = plt.subplots(nrows=1, ncols=2, figsize=(15,5))\n",
    "ax[0].plot(losses); ax[0].set_title('train loss'); ax[0].set_xlabel('iteration'); ax[0].grid(True)\n",
    "ax[1].plot(accuracies); ax[1].set_title('eval accuracy'); ax[1].set_xlabel('iteration'); ax[1].grid(True)\n",
    "#ax[2].plot(bleus); ax[2].set_title('Bleu score'); ax[2].set_xlabel('iteration'); ax[2].grid(True)"
   ]
  },
  {
   "cell_type": "markdown",
   "metadata": {},
   "source": [
    "Now we just need to train for a few days on multiple GPUs to get descent results...\n",
    "Note that using **pre trained embeding** can accelerate the process by much!"
   ]
  },
  {
   "cell_type": "markdown",
   "metadata": {},
   "source": [
    "What information is captured by the final encoder hidden state when we train such a model end-to-end?\n",
    "\n",
    "Intuitively, we expect it to contain the \"meaning\" of the **entire** sentence, so that the decoder can translate it based on this alone.\n",
    "\n",
    "Sutskever et al. demonstrate this by applying a 2D PCA to the last encoder hidden state:\n",
    "\n",
    "<center><img src=\"resources/sutskever2014_pca.png\", width=\"1400\"></center>"
   ]
  },
  {
   "cell_type": "markdown",
   "metadata": {},
   "source": [
    "We can see that sentences with similar meanings appear to be clustered together, i.e. they have a similar representation.\n",
    "\n",
    "isn't that great?<br>\n",
    "well, there are also limitation.<br>\n",
    "In this architecture, the encoder's last hidden state must encode all the information the decoder needs for translation.\n",
    "It must represent the entire meaning of the source sentence, and can't encode local information and lak of temporal knowledge (we do not use the intermidiate hiddens)\n",
    "\n",
    "Can we somehow use this local info to help the decoder?"
   ]
  },
  {
   "cell_type": "markdown",
   "metadata": {},
   "source": [
    "## Attention for Alignment\n",
    "---"
   ]
  },
  {
   "cell_type": "markdown",
   "metadata": {},
   "source": [
    "Now we'll add attention to our model in order to use the encoder's intermediate information. This will allow our decoder to **focus** on different parts of the **source** sequence while it's generating the target sequence.\n",
    "\n",
    "The approach here is based on the classic paper \"Neural Machine Translation by Jointly Learning to Align and Translate\" by [Bahdanau et al.](http://arxiv.org/abs/1409.0473) (ICLR, 2015)."
   ]
  },
  {
   "cell_type": "markdown",
   "metadata": {},
   "source": [
    "How should we use attention to allow the decoder to focus on different parts on the input?\n",
    "\n",
    "\n",
    "\n",
    "\n",
    "- We'll treat the encoder's outputs (last layer's hidden states) as both keys and values.\n",
    "- We'll use the decoder's hidden state as a query at each time step.\n",
    "- The attention output will therefore be a weighed average of the encoder outputs most matching the current decoder state.\n",
    "- The output will be treated as a **context**, and concatenated to the decoder input in the next time step.\n",
    "\n",
    "<center><img src=\"resources/seq2seq_attention.svg\" width=1000></center>\n",
    "Note that with this approach, the encoder's last hidden state no longer needs to convey the entire meaning because decoder can look at different parts of the source sequence."
   ]
  },
  {
   "cell_type": "markdown",
   "metadata": {},
   "source": [
    "To start, lets first implement an additive attention block using a 2-layer MLP.\n",
    "\n",
    "As we saw previously, in this type of attention the similarity (\"energy\") function is \n",
    "\n",
    "$$\n",
    "e(\\vec{k},\\vec{q}) = \\vectr{w} \\tanh(\\mat{W}_k\\vec{k} + \\mat{W}_q\\vec{q}),\n",
    "$$\n",
    "\n",
    "where $\\mat{W}_k\\in\\set{R}^{h\\times d_k}$, $\\mat{W}_q\\in\\set{R}^{h\\times d_q}$ and $\\vec{w}\\in\\set{R}^{h}$ are trainable parameters.\n",
    "\n",
    "An important detail is that since we're using the encoder outputs as key/values, and some outputs correspond to `<pad>` tokens, we need a way to tell our attention block to ignore these outputs (give them zero attention weight).\n",
    "\n",
    "We'll add a `seq_len` argument to our attention which should specify the length of the sequence without padding."
   ]
  },
  {
   "cell_type": "code",
   "execution_count": 23,
   "metadata": {},
   "outputs": [],
   "source": [
    "from torch import Tensor\n",
    "class MLPAttention(nn.Module):\n",
    "    def __init__(self, q_dim, k_dim, v_dim, h_dim):\n",
    "        super().__init__()\n",
    "        self.wk = nn.Linear(k_dim, h_dim, bias=False)\n",
    "        self.wq = nn.Linear(q_dim, h_dim, bias=False)\n",
    "        self.w  = nn.Linear(h_dim, 1, bias=False)\n",
    "        \n",
    "    def forward(self, q: Tensor, k: Tensor, v: Tensor, seq_len: Tensor=None):\n",
    "        # q: Queries tensor of shape (B, Q, q_dim)\n",
    "        # k: Keys tensor of shape (B, K, k_dim)\n",
    "        # v: Values tensor of shape (B, K, v_dim)\n",
    "        # seq_len: Sequence lengths tensor of shape (B,). Specifies how many key/values to use in each example.\n",
    "        \n",
    "        # Project keys to hidden dimension\n",
    "        # (B, K, k_dim) -> (B, K, h_dim) -> (B, 1, K, h_dim)\n",
    "        wk_k = self.wk(k).unsqueeze(1)\n",
    "        \n",
    "        # Project queries to hidden dimension\n",
    "        # (B, Q, q_dim)  -> (B, Q, h_dim)  -> (B, Q, 1, h_dim)\n",
    "        wq_q = self.wq(q).unsqueeze(2)\n",
    "        \n",
    "        # First layer of MLP: Use broadcast-addition to combine, then apply nonlinearity\n",
    "        # (B, Q, K, h_dim)\n",
    "        z1 = torch.tanh(wq_q + wk_k)\n",
    "        \n",
    "        # Second layer of MLP\n",
    "        # (B, Q, K, h_dim) -> (B, Q, K, 1) -> (B, Q, K)\n",
    "        z2 = self.w(z1).squeeze(dim=-1)\n",
    "        \n",
    "        # Mask z2 before applying softmax: only seq_len keys are non-padding in each of the B samples\n",
    "        if seq_len is not None:\n",
    "            B, Q, K = z2.shape\n",
    "            idx = torch.arange(K).expand_as(z2)    # (B,Q,K) containing indices 0..K-1\n",
    "            mask = idx >= seq_len.reshape(B, 1, 1) # mask selects indices greater than seq_len\n",
    "            z2[mask] = float('-inf')               # set selected to -inf to prevent influence on softmax\n",
    "        \n",
    "        # Apply softmax on last dimension to get attention weights, per query\n",
    "        a = torch.softmax(z2, dim=-1)\n",
    "        \n",
    "        # Apply the attention weights to the values, per query\n",
    "        # (B, Q, K) * (B, K, v_dim) -> (B, Q, v_dim)\n",
    "        return torch.bmm(a, v)"
   ]
  },
  {
   "cell_type": "code",
   "execution_count": 24,
   "metadata": {},
   "outputs": [
    {
     "name": "stdout",
     "output_type": "stream",
     "text": [
      "q (B, Q, q_dim) = (2, 1, 3):\n",
      " tensor([[[1., 1., 1.]],\n",
      "\n",
      "        [[1., 1., 1.]]])\n",
      "k (B, K, k_dim) = (2, 4, 2):\n",
      " tensor([[[1., 1.],\n",
      "         [1., 1.],\n",
      "         [1., 1.],\n",
      "         [1., 1.]],\n",
      "\n",
      "        [[1., 1.],\n",
      "         [1., 1.],\n",
      "         [1., 1.],\n",
      "         [1., 1.]]])\n",
      "v (B, K, v_dim) = (2, 4, 5):\n",
      " tensor([[[ 0.,  4.,  8., 12., 16.],\n",
      "         [ 1.,  5.,  9., 13., 17.],\n",
      "         [ 2.,  6., 10., 14., 18.],\n",
      "         [ 3.,  7., 11., 15., 19.]],\n",
      "\n",
      "        [[20., 24., 28., 32., 36.],\n",
      "         [21., 25., 29., 33., 37.],\n",
      "         [22., 26., 30., 34., 38.],\n",
      "         [23., 27., 31., 35., 39.]]])\n"
     ]
    }
   ],
   "source": [
    "# Create one query of dim 3 (but in a batch of 2)\n",
    "q = torch.ones((2, 1, 3), dtype=torch.float)\n",
    "print(f'q (B, Q, q_dim) = {tuple(q.shape)}:\\n', q)\n",
    "\n",
    "# Create 4 key-value pairs\n",
    "k = torch.ones(2, 4, 2, dtype=torch.float)\n",
    "print(f'k (B, K, k_dim) = {tuple(k.shape)}:\\n', k)\n",
    "v = torch.arange(40, dtype=torch.float).reshape(2, 5, 4).transpose(1, 2)\n",
    "print(f'v (B, K, v_dim) = {tuple(v.shape)}:\\n', v)"
   ]
  },
  {
   "cell_type": "code",
   "execution_count": 25,
   "metadata": {},
   "outputs": [
    {
     "name": "stdout",
     "output_type": "stream",
     "text": [
      "tensor([[[ 1.5000,  5.5000,  9.5000, 13.5000, 17.5000]],\n",
      "\n",
      "        [[21.5000, 25.5000, 29.5000, 33.5000, 37.5000]]],\n",
      "       grad_fn=<BmmBackward0>)\n",
      "(B, Q, v_dim) = torch.Size([2, 1, 5])\n"
     ]
    }
   ],
   "source": [
    "attn = MLPAttention(q_dim=3, k_dim=2, v_dim=5, h_dim=100)\n",
    "y = attn(q, k, v, seq_len=None)\n",
    "print(y)\n",
    "print(f'(B, Q, v_dim) = {y.shape}')"
   ]
  },
  {
   "cell_type": "markdown",
   "metadata": {},
   "source": [
    "Output is a sequence of length 1 because we had one query.\n",
    "\n",
    "Notice that the result is an average of the values, since all keys are equally similar to the query.\n",
    "\n",
    "Let's try with `seq_len=1`, i.e. only the first token in the input is considered valid (not padding):"
   ]
  },
  {
   "cell_type": "code",
   "execution_count": 26,
   "metadata": {},
   "outputs": [
    {
     "data": {
      "text/plain": [
       "tensor([[[ 0.,  4.,  8., 12., 16.]],\n",
       "\n",
       "        [[20., 24., 28., 32., 36.]]], grad_fn=<BmmBackward0>)"
      ]
     },
     "execution_count": 26,
     "metadata": {},
     "output_type": "execute_result"
    }
   ],
   "source": [
    "attn(q, k, v, seq_len=torch.tensor([1, 1]))"
   ]
  },
  {
   "cell_type": "markdown",
   "metadata": {},
   "source": [
    "### Update out model"
   ]
  },
  {
   "cell_type": "markdown",
   "metadata": {},
   "source": [
    "Now we're ready to add the attention block to our model.\n",
    "\n",
    "To do this, we only need to modify our `Seq2SeqDecoder` class. The rest can stay the same.\n",
    "\n",
    "The decoder's `forward` method now needs to also receive all the encoder outputs (`enc_h`) and the length (without padding) of the source sequence (`src_len`)."
   ]
  },
  {
   "cell_type": "code",
   "execution_count": 27,
   "metadata": {},
   "outputs": [],
   "source": [
    "class Seq2SeqDecoderAttn(nn.Module):\n",
    "    def __init__(self, vocab_size, embedding_dim, num_layers, h_dim, dropout=0.2):\n",
    "        super().__init__()\n",
    "        self.embedding = nn.Embedding(vocab_size, embedding_dim)\n",
    "        \n",
    "        # The Q, K, V dims are all h_dim because of how we parametrized encoder and decoder\n",
    "        self.attn = MLPAttention(h_dim, h_dim, h_dim, h_dim)\n",
    "        \n",
    "        # Note: GRU input dim now includes both embedding and attention output!\n",
    "        self.rnn = nn.GRU(embedding_dim + h_dim*num_layers, h_dim, num_layers=num_layers, dropout=dropout)\n",
    "        \n",
    "        self.out_fc = nn.Linear(h_dim, vocab_size)\n",
    "        \n",
    "    def forward(self, x, h_prev, enc_h, src_len, **kw):\n",
    "        # x shape: (S, B)\n",
    "        # h_prev:  (L, B, H) the initial/previous hidden state (L queries for attention)\n",
    "        # enc_h:   (S', B, H) all outputs from encoder** (S' key-value pairs for attention)\n",
    "        # src_len: (B,) the length without padding of the encoder's sequence\n",
    "        S, B = x.shape\n",
    "        embedded = self.embedding(x) # embedded shape: (S, B, E)\n",
    "        \n",
    "        # Apply attention: Query is prev hidden state; key/vals are enc outputs without positions of padding\n",
    "        q  = h_prev.transpose(0, 1) # (B, L, H)\n",
    "        kv = enc_h.transpose(0, 1)  # (B, S, H)\n",
    "        a  = self.attn(q, kv, kv, seq_len=src_len)  # (B, L, H)\n",
    "        \n",
    "        # Create RNN input by concatenating attention-based context with the embedded inputs\n",
    "        # Note that when used with Seq2Seq we have S=1 so the expand is a no-op\n",
    "        # (B, L, H) -> (1, B, L*H) -> (S, B, L*H)\n",
    "        a = a.reshape(1, B, -1).expand(S, -1, -1)\n",
    "        rnn_input = torch.cat((embedded, a), dim=2) # (S, B, E + L*H)\n",
    "        \n",
    "        # h:  (S, B, H)\n",
    "        # ht: (L, B, H)\n",
    "        h, ht = self.rnn(rnn_input, h_prev)\n",
    "        \n",
    "        # Project H back to the vocab size V, to get a score per word\n",
    "        out = self.out_fc(h)\n",
    "        \n",
    "        # Out shapes: (S, B, V) and (L, B, H)\n",
    "        return out, ht"
   ]
  },
  {
   "cell_type": "code",
   "execution_count": null,
   "metadata": {},
   "outputs": [
    {
     "name": "stdout",
     "output_type": "stream",
     "text": [
      "=== EPOCH 1/40, p_tf=1.00 ===\n",
      "train loss=4.053: 100%|██████████| 454/454 [11:23<00:00,  1.51s/it]\n",
      "eval acc=4.303030490875244: 100%|██████████| 16/16 [00:05<00:00,  3.02it/s]\n",
      "=== EPOCH 2/40, p_tf=0.95 ===\n",
      "train loss=3.749: 100%|██████████| 454/454 [11:19<00:00,  1.50s/it]\n",
      "eval acc=4.848484992980957: 100%|██████████| 16/16 [00:05<00:00,  3.02it/s] \n",
      "=== EPOCH 3/40, p_tf=0.90 ===\n",
      "train loss=3.737: 100%|██████████| 454/454 [11:23<00:00,  1.51s/it]\n",
      "eval acc=5.5757575035095215: 100%|██████████| 16/16 [00:05<00:00,  3.01it/s]\n",
      "=== EPOCH 4/40, p_tf=0.85 ===\n",
      "train loss=3.630: 100%|██████████| 454/454 [11:21<00:00,  1.50s/it]\n",
      "eval acc=4.696969509124756: 100%|██████████| 16/16 [00:05<00:00,  3.06it/s] \n",
      "=== EPOCH 5/40, p_tf=0.80 ===\n",
      "train loss=3.724: 100%|██████████| 454/454 [11:34<00:00,  1.53s/it]\n",
      "eval acc=5.484848499298096: 100%|██████████| 16/16 [00:05<00:00,  3.07it/s] \n",
      "=== EPOCH 6/40, p_tf=0.75 ===\n",
      "train loss=3.711: 100%|██████████| 454/454 [11:56<00:00,  1.58s/it]\n",
      "eval acc=5.151515007019043: 100%|██████████| 16/16 [00:05<00:00,  2.78it/s] \n",
      "=== EPOCH 7/40, p_tf=0.70 ===\n",
      "train loss=4.171: 100%|██████████| 454/454 [12:35<00:00,  1.66s/it]\n",
      "eval acc=5.545454502105713: 100%|██████████| 16/16 [00:05<00:00,  2.77it/s] \n",
      "=== EPOCH 8/40, p_tf=0.65 ===\n",
      "train loss=3.656: 100%|██████████| 454/454 [16:32<00:00,  2.19s/it]\n",
      "eval acc=5.303030490875244: 100%|██████████| 16/16 [00:06<00:00,  2.55it/s] \n",
      "=== EPOCH 9/40, p_tf=0.60 ===\n",
      "train loss=3.774: 100%|██████████| 454/454 [13:29<00:00,  1.78s/it]\n",
      "eval acc=5.39393949508667: 100%|██████████| 16/16 [00:13<00:00,  1.15it/s]  \n",
      "=== EPOCH 10/40, p_tf=0.55 ===\n",
      "train loss=4.011: 100%|██████████| 454/454 [15:04<00:00,  1.99s/it]\n",
      "eval acc=6.030303001403809: 100%|██████████| 16/16 [00:06<00:00,  2.58it/s] \n",
      "=== EPOCH 11/40, p_tf=0.50 ===\n",
      "train loss=3.607:  50%|████▉     | 226/454 [06:43<06:42,  1.76s/it]"
     ]
    }
   ],
   "source": [
    "EPOCHS = 4\n",
    "\n",
    "dl_train, dl_valid, dl_test = BucketIterator.splits((ds_train, ds_valid, ds_test), batch_size=BATCH_SIZE)\n",
    "\n",
    "enc = Seq2SeqEncoder(V_src, EMB_DIM*2, NUM_LAYERS, HID_DIM*2)\n",
    "dec = Seq2SeqDecoderAttn(V_tgt, EMB_DIM*2, NUM_LAYERS, HID_DIM*2)\n",
    "seq2seq_model = Seq2Seq(enc, dec)\n",
    "\n",
    "optimizer = torch.optim.Adam(seq2seq_model.parameters(), lr=1e-2)\n",
    "\n",
    "# Note: We don't compute loss from padding tokens!\n",
    "loss_fn = nn.CrossEntropyLoss(ignore_index=PAD_TOKEN)\n",
    "\n",
    "losses = []\n",
    "accuracies = []\n",
    "bleus = []\n",
    "for idx_epoch in range(EPOCHS):\n",
    "    # Linearly decay amount of teacher forcing fro the first 10 epochs (example)\n",
    "    p_tf = 1 - min((idx_epoch / 20), 1)\n",
    "    \n",
    "    print(f'=== EPOCH {idx_epoch+1}/{EPOCHS}, p_tf={p_tf:.2f} ===')\n",
    "    losses += train_seq2seq(seq2seq_model, dl_train, optimizer, loss_fn, p_tf, GRAD_CLIP)#, BATCHES_PER_EPOCH)\n",
    "    acc, bleu = eval_seq2seq(seq2seq_model, dl_valid)\n",
    "    accuracies += acc\n",
    "    bleus += bleu"
   ]
  },
  {
   "cell_type": "code",
   "execution_count": null,
   "metadata": {},
   "outputs": [],
   "source": [
    "max(bleus)"
   ]
  },
  {
   "cell_type": "code",
   "execution_count": null,
   "metadata": {},
   "outputs": [],
   "source": [
    "fig, ax = plt.subplots(nrows=1, ncols=2, figsize=(15,5))\n",
    "ax[0].plot(losses); ax[0].set_title('train loss'); ax[0].set_xlabel('iteration'); ax[0].grid(True)\n",
    "ax[1].plot(accuracies); ax[1].set_title('eval accuracy'); ax[1].set_xlabel('iteration'); ax[1].grid(True)\n",
    "#ax[2].plot(bleus); ax[2].set_title('Bleu score'); ax[2].set_xlabel('iteration'); ax[2].grid(True)"
   ]
  },
  {
   "cell_type": "markdown",
   "metadata": {},
   "source": [
    "So what is the attention layer learning?\n",
    "\n",
    "It's learning to predict the alignment between words in the source (English) and target (French) sentences.\n",
    "\n",
    "<center><img src=\"resources/bahdanau2015-annotated.png\", width=\"1200\"></center>\n",
    "\n",
    "The figure shows the attention weights applied by a trained model to every word in the source sequence (English) when generating the shown target sequence (French).\n",
    "We can see how the trained attention allows the decoder to look forward and back, for example when generating the translation of \"European Economic Area\"."
   ]
  },
  {
   "cell_type": "markdown",
   "metadata": {},
   "source": [
    "# Part 2\n",
    "---"
   ]
  },
  {
   "cell_type": "markdown",
   "metadata": {},
   "source": [
    "## Transformers\n",
    "---"
   ]
  },
  {
   "cell_type": "markdown",
   "metadata": {},
   "source": [
    "So the attention mechanisem was yet another method, since implement it and applying it, did not show sagnificant improvements.<br>\n",
    "And then, Google came to the playground, an as they usually do, they take it to the next level.<br>\n",
    "\n",
    "In the paper [Attention Is All You Need](https://arxiv.org/pdf/1706.03762.pdf) from 2017, they presented the transformer model, that changed the NLP word for good.\n",
    "\n",
    "before we dive into the model, let's talk about the size, cause size do matter:\n",
    "original transformer came in 2 sizes: `base transformer` with 65M params, and `Big transformer` with 214M params.\n",
    "\n",
    "what happened next? i call it **The moor's law of parameters**:\n",
    "<center><img src=\"resources/NLP_model_size-1-625x266.png\", width=\"500\"></center>\n",
    "\n",
    "\n",
    "\n",
    "<center><img src=\"resources/number-of-model-parameters-from-Elmo-to-Turing-NLG.png\", width=\"1200\"></center>\n",
    "<center><img src=\"resources/number-of-model-parameters-until-gpt-3.png\", width=\"1200\"></center>\n",
    "\n",
    "\n",
    "\n",
    "\n"
   ]
  },
  {
   "cell_type": "markdown",
   "metadata": {},
   "source": [
    "After we've already learned the attention mechanisem, we will focus on the 2 inovative components that lead to this madness:\n",
    "**Multyhead Attention** and **Positional encoding**"
   ]
  },
  {
   "cell_type": "markdown",
   "metadata": {},
   "source": [
    "### Multy head attention\n",
    "---"
   ]
  },
  {
   "cell_type": "markdown",
   "metadata": {},
   "source": [
    "This part is pretty simple for us, the attention experts ;)\n",
    "\n",
    "as we could have one attention mechanisem, we can use more then one in parallel, and the output would be simply concatination of all the attention heads.\n",
    "\n",
    "<center><img src=\"resources/multheadatt.png\", width=\"600\"></center>"
   ]
  },
  {
   "cell_type": "code",
   "execution_count": null,
   "metadata": {},
   "outputs": [],
   "source": [
    "class MultiheadAttention(nn.Module):\n",
    "    \n",
    "    def __init__(self, input_dim, embed_dim, num_heads):\n",
    "        super().__init__()\n",
    "        assert embed_dim % num_heads == 0, \"Embedding dimension must be 0 modulo number of heads.\"\n",
    "        \n",
    "        self.embed_dim = embed_dim\n",
    "        self.num_heads = num_heads\n",
    "        self.head_dim = embed_dim // num_heads\n",
    "        \n",
    "        # Stack all weight matrices 1...h together for efficiency\n",
    "        # \"bias=False\" is optional, but for the projection we learned, there is no teoretical justification to use bias\n",
    "        self.qkv_proj = nn.Linear(input_dim, 3*embed_dim)\n",
    "        self.o_proj = nn.Linear(embed_dim, embed_dim)\n",
    "        \n",
    "        self._reset_parameters()\n",
    "\n",
    "    def _reset_parameters(self):\n",
    "        # Original Transformer initialization, see PyTorch documentation of the paper if you would like....\n",
    "        nn.init.xavier_uniform_(self.qkv_proj.weight)\n",
    "        self.qkv_proj.bias.data.fill_(0)\n",
    "        nn.init.xavier_uniform_(self.o_proj.weight)\n",
    "        self.o_proj.bias.data.fill_(0)\n",
    "\n",
    "    def forward(self, x, mask=None, return_attention=False):\n",
    "        batch_size, seq_length, embed_dim = x.size()\n",
    "        qkv = self.qkv_proj(x)\n",
    "        \n",
    "        # Separate Q, K, V from linear output\n",
    "        qkv = qkv.reshape(batch_size, seq_length, self.num_heads, 3*self.head_dim)\n",
    "        qkv = qkv.permute(0, 2, 1, 3) # [Batch, Head, SeqLen, 3*Dims]\n",
    "        q, k, v = qkv.chunk(3, dim=-1) #[Batch, Head, SeqLen, Dims]\n",
    "        \n",
    "        # Determine value outputs\n",
    "        values, attention = scaled_dot_product(q, k, v, mask=mask)\n",
    "        values = values.permute(0, 2, 1, 3) # [Batch, SeqLen, Head, Dims]\n",
    "        values = values.reshape(batch_size, seq_length, embed_dim) #concatination all heads\n",
    "        o = self.o_proj(values)\n",
    "        \n",
    "        if return_attention:\n",
    "            return o, attention\n",
    "        else:\n",
    "            return o"
   ]
  },
  {
   "cell_type": "code",
   "execution_count": null,
   "metadata": {},
   "outputs": [],
   "source": []
  },
  {
   "cell_type": "code",
   "execution_count": null,
   "metadata": {},
   "outputs": [],
   "source": [
    "seq_len,input_dim, embed_dim = 20,10,10\n",
    "x = torch.randn(4,seq_len,input_dim)\n",
    "\n",
    "MhA= MultiheadAttention(input_dim, embed_dim, embed_dim//4)"
   ]
  },
  {
   "cell_type": "code",
   "execution_count": null,
   "metadata": {},
   "outputs": [],
   "source": [
    "out,a = MhA(x,return_attention=True)"
   ]
  },
  {
   "cell_type": "code",
   "execution_count": null,
   "metadata": {},
   "outputs": [],
   "source": [
    "print(f'MHA output: {out.shape}, attn shape: {a.shape}')"
   ]
  },
  {
   "cell_type": "markdown",
   "metadata": {},
   "source": [
    "we've created output as batch x heads*hidden x hidden, where the attention is batch x heads x deq_len x deq_len\n",
    "\n",
    "essentially, in the transformer model, we put the output in an MLP that reduce to the representation that we want, while the attention score is the attention of each input with respect to the rest of the inputs, we can say this is a learnable corrolation map, with attention to diffrent things.\n",
    "each head learn diffrent thing, just like diffrent filters in CNNs learn diffrent features of the image.\n",
    "\n",
    "\n",
    "as an example, if we use 2 heads, we can see what other words in the input effect a given input token:\n",
    "<center><img src=\"resources/2head.PNG\", width=\"600\"></center>\n",
    "<center><img src=\"resources/QzaaI.png\", width=\"600\"></center>\n",
    "\n",
    "\n"
   ]
  },
  {
   "cell_type": "markdown",
   "metadata": {},
   "source": [
    "The key idea is, as we can learn with the attention mechanisem long distance dependancies, but each mechanisem can learn one context, like, first order relation.\n",
    "when we have more heads, each head can learn diffrent relations, such as correct syntax, gender refrences and so on...\n",
    "concatinate all the heads allow us to use all of this knowledge together and create a very strogn tool, that in theory generalize knowledge just like our brain."
   ]
  },
  {
   "cell_type": "markdown",
   "metadata": {},
   "source": [
    "### Positional Encoding\n",
    "---"
   ]
  },
  {
   "cell_type": "markdown",
   "metadata": {},
   "source": [
    "Untill now, we saw a strong tool for learning, but if a token came as the first word in the sentence, or as last, it didn't change anything.\n",
    "\n",
    "the authors of the paper of the transformer suggent that the position of each token is important too...\n",
    "\n",
    "The positional encoding is an idea that reminds Spectral decomposition, like Fourier series, based just on the positions.\n",
    "\n",
    "The basis is Sin and Cosin functions with different coefficients (2pi, 4pi…)\n",
    "\n",
    "The reason of that is that we want to push each embedding a bit to encode the position, but we also want it to be normalized. One might use just one Sin function will get the same positional encoding for words in positions of the same frequencies of the Sin...\n",
    "\n",
    "in the transformer paper it looks neglectable, but it's actually a very novel idea\n",
    "\n",
    "<center><img src=\"resources/transformer.png\", width=\"600\"></center>\n"
   ]
  },
  {
   "cell_type": "markdown",
   "metadata": {},
   "source": [
    "Lets implement it ourself and try to see how the additional to each encoded word is diffrent:"
   ]
  },
  {
   "cell_type": "code",
   "execution_count": null,
   "metadata": {},
   "outputs": [],
   "source": [
    "class PositionalEncoding(nn.Module):\n",
    "\n",
    "    def __init__(self, d_model, max_len=5000):\n",
    "        \"\"\"\n",
    "        Inputs\n",
    "            d_model - Hidden dimensionality of the input.\n",
    "            max_len - Maximum length of a sequence to expect.\n",
    "        \"\"\"\n",
    "        super().__init__()\n",
    "\n",
    "        # Create matrix of [SeqLen, HiddenDim] representing the positional encoding for max_len inputs\n",
    "        pe = torch.zeros(max_len, d_model)\n",
    "        position = torch.arange(0, max_len, dtype=torch.float).unsqueeze(1)\n",
    "        div_term = torch.exp(torch.arange(0, d_model, 2).float() * (-math.log(10000.0) / d_model))\n",
    "        pe[:, 0::2] = torch.sin(position * div_term)\n",
    "        pe[:, 1::2] = torch.cos(position * div_term)\n",
    "        pe = pe.unsqueeze(0)\n",
    "        \n",
    "        # register_buffer => Tensor which is not a parameter, but should be part of the modules state.\n",
    "        # Used for tensors that need to be on the same device as the module.\n",
    "        # persistent=False tells PyTorch to not add the buffer to the state dict (e.g. when we save the model) \n",
    "        self.register_buffer('pe', pe, persistent=False)\n",
    "\n",
    "    def forward(self, x):\n",
    "        x = x + self.pe[:, :x.size(1)]\n",
    "        return x"
   ]
  },
  {
   "cell_type": "code",
   "execution_count": null,
   "metadata": {},
   "outputs": [],
   "source": [
    "encod_block = PositionalEncoding(d_model=48, max_len=96)\n",
    "pe = encod_block.pe.squeeze().T.cpu().numpy()\n",
    "\n",
    "fig, ax = plt.subplots(nrows=1, ncols=1, figsize=(8,3))\n",
    "pos = ax.imshow(pe, cmap=\"RdGy\", extent=(1,pe.shape[1]+1,pe.shape[0]+1,1))\n",
    "fig.colorbar(pos, ax=ax)\n",
    "ax.set_xlabel(\"Position in sequence\")\n",
    "ax.set_ylabel(\"Hidden dimension\")\n",
    "ax.set_title(\"Positional encoding over hidden dimensions\")\n",
    "ax.set_xticks([1]+[i*10 for i in range(1,1+pe.shape[1]//10)])\n",
    "ax.set_yticks([1]+[i*10 for i in range(1,1+pe.shape[0]//10)])\n",
    "plt.show()"
   ]
  },
  {
   "cell_type": "markdown",
   "metadata": {},
   "source": [
    "Note that with the \"super-position\" between all the sin and cosin functions, each token would get a differnt additional to the encoding!\n",
    "\n",
    "if it's confusing, we can choose some of the functions and zoom in a bit:"
   ]
  },
  {
   "cell_type": "code",
   "execution_count": null,
   "metadata": {},
   "outputs": [],
   "source": [
    "#!pip install seaborn - if it's not part of the requrement file\n",
    "import seaborn as sns\n",
    "import numpy as np\n",
    "sns.set_theme()\n",
    "fig, ax = plt.subplots(2, 2, figsize=(12,4))\n",
    "ax = [a for a_list in ax for a in a_list]\n",
    "for i in range(len(ax)):\n",
    "    ax[i].plot(np.arange(1,17), pe[i,:16], color=f'C{i}', marker=\"o\", markersize=6, markeredgecolor=\"black\")\n",
    "    ax[i].set_title(f\"Encoding in hidden dimension {i+1}\")\n",
    "    ax[i].set_xlabel(\"Position in sequence\", fontsize=10)\n",
    "    ax[i].set_ylabel(\"Positional encoding\", fontsize=10)\n",
    "    ax[i].set_xticks(np.arange(1,17))\n",
    "    ax[i].tick_params(axis='both', which='major', labelsize=10)\n",
    "    ax[i].tick_params(axis='both', which='minor', labelsize=8)\n",
    "    ax[i].set_ylim(-1.2, 1.2)\n",
    "fig.subplots_adjust(hspace=0.8)\n",
    "sns.reset_orig()\n",
    "plt.show()"
   ]
  },
  {
   "cell_type": "markdown",
   "metadata": {},
   "source": [
    "q: can we use the transformer for a text generation task?\n",
    "\n",
    "a: short answer is yes, but it really depend on the nature of our decoder.\n",
    "\n",
    "in Bert model, B stands for bi-directional, and therfore it's good for tasks that need to see future words.\n",
    "\n",
    "in general, for text generation, we feed the decoder with some context, and can generate text with some probabilities... we will see how :)\n"
   ]
  },
  {
   "cell_type": "markdown",
   "metadata": {},
   "source": [
    "## Inference with pre-trained transformers\n",
    "---"
   ]
  },
  {
   "cell_type": "markdown",
   "metadata": {},
   "source": [
    "The transformer models are Huge, and we've yet to learn about generative models...\n",
    "\n",
    "the model was trained with batches of 512 over multiple GPU's for weeks.. \n",
    "\n",
    "however, some cool company called [huggingface](https://huggingface.co/) is bisically a hub for pretrained complex models that you can use, fine-tune and explore."
   ]
  },
  {
   "cell_type": "markdown",
   "metadata": {},
   "source": [
    "We're going to use a model called [GPT-2](https://openai.com/blog/better-language-models/)"
   ]
  },
  {
   "cell_type": "markdown",
   "metadata": {},
   "source": [
    "First note is, the model come in diffrent sizes (small, medium, large and X-large).\n",
    "we're going to use a lighter version the small model with 124M params!!!!\n",
    "\n",
    "<center><img src=\"resources/gpt2.PNG\", width=\"800\"></center>\n",
    "\n"
   ]
  },
  {
   "cell_type": "markdown",
   "metadata": {},
   "source": [
    "we're not going to go too much into details\n",
    "but as you can see in the image aboive, GPT2 takes a large transformers (decoders) and stack them together (similar to attention heads, but with the hole decoder)\n",
    "the encoder is fairly similar, again as we didn't talk about VAE's yet, assume that what we do here is decoding some short input, and trying to use the latent representation of it to predict the next word, as for when we don't have more generated words, we use the output of the encoder as an input for the decoder again...\n",
    "\n",
    "\n",
    "we will use a version with corpus that has 768 tokens, but of course you can go up to 10k...\n"
   ]
  },
  {
   "cell_type": "markdown",
   "metadata": {},
   "source": [
    "The workshops are new, and so to get the pretrained model, first we would install the library of huggingface called transformers"
   ]
  },
  {
   "cell_type": "code",
   "execution_count": null,
   "metadata": {},
   "outputs": [],
   "source": [
    "!pip install transformers"
   ]
  },
  {
   "cell_type": "code",
   "execution_count": null,
   "metadata": {},
   "outputs": [],
   "source": [
    "from transformers import pipeline, set_seed\n",
    "generator = pipeline('text-generation', model='gpt2')\n",
    "set_seed(42)"
   ]
  },
  {
   "cell_type": "code",
   "execution_count": null,
   "metadata": {},
   "outputs": [],
   "source": [
    "completes = generator(\"if i had a nickel for everytime a student told me that the homework is too long,\", max_length=50, num_return_sequences=5)"
   ]
  },
  {
   "cell_type": "code",
   "execution_count": null,
   "metadata": {},
   "outputs": [],
   "source": [
    "for i, sentence in enumerate(completes):\n",
    "    print(f'===generated sentence number {i}: ===')\n",
    "    print(' ' + sentence['generated_text']+ '\\n\\n')"
   ]
  },
  {
   "cell_type": "markdown",
   "metadata": {},
   "source": [
    "even new models have biasses:"
   ]
  },
  {
   "cell_type": "code",
   "execution_count": null,
   "metadata": {},
   "outputs": [],
   "source": [
    "generator(\"The White man worked as a\", max_length=10, num_return_sequences=5)"
   ]
  },
  {
   "cell_type": "code",
   "execution_count": null,
   "metadata": {},
   "outputs": [],
   "source": [
    "generator(\"The Black man worked as a\", max_length=10, num_return_sequences=5)"
   ]
  },
  {
   "cell_type": "markdown",
   "metadata": {},
   "source": [
    "if you want to try and use the model with input and output, as an aplication"
   ]
  },
  {
   "cell_type": "code",
   "execution_count": null,
   "metadata": {},
   "outputs": [],
   "source": [
    "from transformers import GPT2Tokenizer, GPT2Model\n",
    "tokenizer = GPT2Tokenizer.from_pretrained('gpt2')\n",
    "model = GPT2Model.from_pretrained('gpt2')\n",
    "text = \"I really like to learn\"\n",
    "encoded_input = tokenizer(text, return_tensors='pt')\n",
    "output = model(**encoded_input)"
   ]
  },
  {
   "cell_type": "code",
   "execution_count": null,
   "metadata": {},
   "outputs": [],
   "source": [
    "sum([p.numel() for p in model.parameters() if p.requires_grad])"
   ]
  },
  {
   "cell_type": "markdown",
   "metadata": {},
   "source": [
    "the first output give score to each input "
   ]
  },
  {
   "cell_type": "code",
   "execution_count": null,
   "metadata": {},
   "outputs": [],
   "source": [
    "output[0].shape"
   ]
  },
  {
   "cell_type": "markdown",
   "metadata": {},
   "source": [
    "the second output is the decoders output"
   ]
  },
  {
   "cell_type": "code",
   "execution_count": null,
   "metadata": {},
   "outputs": [],
   "source": [
    "len(output[1])"
   ]
  },
  {
   "cell_type": "markdown",
   "metadata": {},
   "source": [
    "visualize attention you can see in [here](https://huggingface.co/exbert/?model=gpt2&modelKind=bidirectional&sentence=The%20girl%20ran%20to%20a%20local%20pub%20to%20escape%20the%20din%20of%20her%20city.&layer=5&heads=..&threshold=0.7&tokenInd=null&tokenSide=null&maskInds=..&hideClsSep=true)\n",
    "\n",
    "or, you can add to your own code with this [cool implementation](https://github.com/jessevig/bertviz)"
   ]
  },
  {
   "cell_type": "markdown",
   "metadata": {},
   "source": [
    "## Links\n",
    "---"
   ]
  },
  {
   "cell_type": "markdown",
   "metadata": {},
   "source": [
    "#### Video By Subject\n",
    "Thanks to Tal Daniel\n",
    "\n",
    "* Deep Learning for Natural Language Processing (NLP) -  <a href=\"https://youtu.be/6D4EWKJgNn0\"> Deep Learning for Natural Language Processing (NLP) </a>\n",
    "    * Attention and the Transformer <a href=\"https://www.youtube.com/watch?v=f01J0Dri-6k&feature=youtu.be\">Practicum: Attention and the Transformer</a>\n",
    "\n",
    "* Recurrent Neural Networks - <a href=\"https://www.youtube.com/watch?v=SEnXr6v2ifU\"> Recurrent Neural Networks | MIT 6.S191 </a>\n",
    "\n",
    "* LSTM & GRU - <a href=\"https://www.youtube.com/watch?v=8HyCNIVRbSU\"> Illustrated Guide to LSTM's and GRU's: A step by step explanation </a>\n",
    "\n",
    "* Transformers - <a href=\"https://www.youtube.com/watch?v=S27pHKBEp30\">LSTM is dead. Long Live Transformers! </a>\n",
    "* BERT - <a href=\"https://www.youtube.com/watch?v=OR0wfP2FD3c\">BERT Explained!</a>\n",
    "* GPT - <a href=\"https://www.youtube.com/watch?v=9ebPNEHRwXU\">GPT Explained!</a>\n",
    "    * [GPT 2](https://jalammar.github.io/illustrated-gpt2/) \n",
    "    * GPT-3 - <a href=\"https://www.youtube.com/watch?v=_x9AwxfjxvE\">OpenAI GPT-3 - Good At Almost Everything!</a>\n",
    "\n",
    "- Transformers- pre trained\n",
    "[Hugging face](https://huggingface.co/)"
   ]
  },
  {
   "cell_type": "markdown",
   "metadata": {
    "slideshow": {
     "slide_type": "skip"
    }
   },
   "source": [
    "**Credits**\n",
    "\n",
    "\n",
    "This tutorial was written by [Moshe Kimhi](https://www.linkedin.com/in/moshekimhi/)<br>\n",
    "the translation and alignment models parts, was written by [Aviv A. Rosenberg](https://avivr.net) as well as insperation for this tutorial.<br>\n",
    "\n",
    "To re-use, please provide attribution and link to the original.\n",
    "\n",
    "\n",
    "Some images in this tutorial were taken and/or adapted from the following sources:\n",
    "\n",
    "- K. Xu et al. 2015, http://proceedings.mlr.press/v37/xuc15.html\n",
    "- Sutskever et al. 2014, https://arxiv.org/abs/1409.3215\n",
    "- Bahdanau et al. 2015, http://arxiv.org/abs/1409.0473\n",
    "- Zhang et al., Dive into Deep Learning, 2019\n",
    "- Peter Bloem, http://www.peterbloem.nl/blog/transformers\n",
    "- Chris Olah, https://colah.github.io/posts/2015-08-Understanding-LSTMs/\n",
    "- Ben Trevett, http://bentrevett.com\n"
   ]
  },
  {
   "cell_type": "code",
   "execution_count": null,
   "metadata": {},
   "outputs": [],
   "source": []
  }
 ],
 "metadata": {
  "celltoolbar": "Slideshow",
  "kernelspec": {
   "display_name": "Python 3",
   "language": "python",
   "name": "python3"
  },
  "language_info": {
   "codemirror_mode": {
    "name": "ipython",
    "version": 3
   },
   "file_extension": ".py",
   "mimetype": "text/x-python",
   "name": "python",
   "nbconvert_exporter": "python",
   "pygments_lexer": "ipython3",
   "version": "3.8.6"
  }
 },
 "nbformat": 4,
 "nbformat_minor": 4
}
